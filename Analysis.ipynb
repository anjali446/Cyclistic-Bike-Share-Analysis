{
 "cells": [
  {
   "cell_type": "code",
   "execution_count": 1,
   "id": "b25e257f-71bc-46de-ae81-0a90e857b056",
   "metadata": {},
   "outputs": [
    {
     "name": "stdout",
     "output_type": "stream",
     "text": [
      "(4333132, 23)\n"
     ]
    }
   ],
   "source": [
    "import pandas as pd\n",
    "df = pd.read_csv('C:\\\\Users\\\\patel\\\\Downloads\\\\Data analyst\\\\bike\\\\Cleaned_SQL_Data\\\\DA_p.csv')\n",
    "print(df.shape)"
   ]
  },
  {
   "cell_type": "code",
   "execution_count": 2,
   "id": "f42a0231-ba9c-4494-8186-ec34992f8dd5",
   "metadata": {},
   "outputs": [],
   "source": [
    "# Define the new column names\n",
    "new_column_names = [\n",
    "    'ride_id', 'rideable_type', 'started_at', 'ended_at',\n",
    "    'start_station_name', 'start_station_id', 'end_station_name', 'end_station_id',\n",
    "    'start_lat', 'start_lng', 'end_lat', 'end_lng', 'member_casual',\n",
    "    'Duration_min', 'dayofweek', 'month', 'distance',\n",
    "    'start_date', 'start_time', 'end_date','end_time','year','hour']\n",
    "\n",
    "# Rename columns\n",
    "df.columns = new_column_names"
   ]
  },
  {
   "cell_type": "code",
   "execution_count": 3,
   "id": "96659c74-d086-4005-862d-8178bc615c94",
   "metadata": {},
   "outputs": [],
   "source": [
    "df = df.drop_duplicates(subset='ride_id', keep='first')  # Keeps the first occurrence"
   ]
  },
  {
   "cell_type": "code",
   "execution_count": 46,
   "id": "ca6ac937-d81b-4b9b-a8a0-8739986ab883",
   "metadata": {},
   "outputs": [
    {
     "name": "stdout",
     "output_type": "stream",
     "text": [
      "            ride_id  rideable_type      started_at        ended_at  \\\n",
      "0  6842AA605EE9FBB3  electric_bike   16-03-23 8:20   16-03-23 8:22   \n",
      "1  FF7CF57CFE026D02   classic_bike  31-03-23 12:28  31-03-23 12:38   \n",
      "2  6B61B916032CB6D6   classic_bike  22-03-23 14:09  22-03-23 14:24   \n",
      "3  E55E61A5F1260040  electric_bike   09-03-23 7:15   09-03-23 7:26   \n",
      "4  123AAD676850F53C   classic_bike  22-03-23 17:47  22-03-23 18:01   \n",
      "5  5929D3080983AF4F   classic_bike  08-03-23 19:58  08-03-23 20:05   \n",
      "6  B2624BAEDDDA3FB1    docked_bike  22-03-23 17:28  22-03-23 17:50   \n",
      "7  979C41EAC356278F   classic_bike  16-03-23 19:31  16-03-23 19:41   \n",
      "8  6C1DCA9593CA8F5F   classic_bike  16-03-23 17:33  16-03-23 17:45   \n",
      "9  74FA89B21DC5856D    docked_bike  16-03-23 10:17  16-03-23 11:00   \n",
      "\n",
      "                     start_station_name start_station_id  \\\n",
      "0               Clark St & Armitage Ave            13146   \n",
      "1  Orleans St & Chestnut St (NEXT Apts)              620   \n",
      "2             Desplaines St & Kinzie St     TA1306000003   \n",
      "3                            Walsh Park            18067   \n",
      "4  Orleans St & Chestnut St (NEXT Apts)              620   \n",
      "5                  Rush St & Hubbard St     KA1503000044   \n",
      "6                     Adler Planetarium            13431   \n",
      "7                 Broadway & Wilson Ave            13074   \n",
      "8          Stetson Ave & South Water St     TA1308000029   \n",
      "9             Clark St & Wellington Ave     TA1307000136   \n",
      "\n",
      "                    end_station_name end_station_id  start_lat  start_lng  \\\n",
      "0          Larrabee St & Webster Ave          13193  41.918413 -87.636451   \n",
      "1             Clark St & Randolph St   TA1305000030  41.898203 -87.637536   \n",
      "2       Sheffield Ave & Kingsbury St          13154  41.888716 -87.644448   \n",
      "3              Sangamon St & Lake St   TA1306000015  41.914480 -87.668013   \n",
      "4        Halsted St & Wrightwood Ave   TA1309000061  41.898203 -87.637536   \n",
      "5                Wells St & Huron St   TA1306000012  41.890173 -87.626185   \n",
      "6      Michigan Ave & Ida B Wells Dr   TA1305000010  41.866095 -87.607267   \n",
      "7    Ravenswood Ave & Irving Park Rd   TA1307000149  41.965221 -87.658139   \n",
      "8       Clinton St & Washington Blvd         WL-012  41.886835 -87.622320   \n",
      "9  DuSable Lake Shore Dr & Monroe St          13300  41.936497 -87.647539   \n",
      "\n",
      "   ...  Duration_min  dayofweek month  distance  start_date  start_time  \\\n",
      "0  ...             2  Wednesday     3  0.855099  2016-03-23    08:20:00   \n",
      "1  ...            10     Sunday     3  0.630922  2031-03-23    12:28:00   \n",
      "2  ...            15  Wednesday     3  0.967866  2022-03-23    14:09:00   \n",
      "3  ...            11     Monday     3  1.893550  2009-03-23    07:15:00   \n",
      "4  ...            14  Wednesday     3  1.291070  2022-03-23    17:47:00   \n",
      "5  ...             7     Sunday     3  0.909479  2008-03-23    19:58:00   \n",
      "6  ...            22  Wednesday     3  1.908570  2022-03-23    17:28:00   \n",
      "7  ...            10  Wednesday     3  1.756520  2016-03-23    19:31:00   \n",
      "8  ...            12  Wednesday     3  2.096080  2016-03-23    17:33:00   \n",
      "9  ...            43  Wednesday     3  3.433840  2016-03-23    10:17:00   \n",
      "\n",
      "     end_date  end_time  year hour  \n",
      "0  2016-03-23  08:22:00  2016    8  \n",
      "1  2031-03-23  12:38:00  2031   12  \n",
      "2  2022-03-23  14:24:00  2022   14  \n",
      "3  2009-03-23  07:26:00  2009    7  \n",
      "4  2022-03-23  18:01:00  2022   17  \n",
      "5  2008-03-23  20:05:00  2008   19  \n",
      "6  2022-03-23  17:50:00  2022   17  \n",
      "7  2016-03-23  19:41:00  2016   19  \n",
      "8  2016-03-23  17:45:00  2016   17  \n",
      "9  2016-03-23  11:00:00  2016   10  \n",
      "\n",
      "[10 rows x 23 columns]\n"
     ]
    }
   ],
   "source": [
    "print(df.head(10))"
   ]
  },
  {
   "cell_type": "code",
   "execution_count": 4,
   "id": "e84532c7-8292-4f2f-a673-c0ce7a660811",
   "metadata": {},
   "outputs": [
    {
     "name": "stdout",
     "output_type": "stream",
     "text": [
      "Data after removing test rides and short durations: (4266459, 23)\n"
     ]
    }
   ],
   "source": [
    "# Remove rides with ride lengths lower than a minute\n",
    "df = df[df['Duration_min'] >= 1]\n",
    "# Removed test rides by filtering specific columns like \"start_station_name\" or \"user_type\"\n",
    "# Assuming test rides are flagged in the dataset (e.g., 'test' in station names or user type)\n",
    "df = df[~df['start_station_name'].str.contains(\"test\", case=False, na=False)]\n",
    "print(f\"Data after removing test rides and short durations: {df.shape}\")"
   ]
  },
  {
   "cell_type": "code",
   "execution_count": 5,
   "id": "71230791-b44b-4003-8d42-32c9fe2f8995",
   "metadata": {},
   "outputs": [
    {
     "name": "stdout",
     "output_type": "stream",
     "text": [
      "Data after removing outliers: (4256824, 23)\n"
     ]
    }
   ],
   "source": [
    "\n",
    "df = df[df['Duration_min'] <= 1440]  # Filter rides within 24 hours (1440 minutes)\n",
    "\n",
    "print(f\"Data after removing outliers: {df.shape}\")"
   ]
  },
  {
   "cell_type": "code",
   "execution_count": 6,
   "id": "a302ba6d-56ea-4dcc-b39b-514f7fba9f99",
   "metadata": {},
   "outputs": [],
   "source": [
    "\n",
    "# Convert started_at and ended_at to datetime with specified format\n",
    "df['started_at'] = pd.to_datetime(df['started_at'], format=\"%Y-%m-%d %H:%M:%S\", errors='coerce')\n",
    "df['ended_at'] = pd.to_datetime(df['ended_at'], format=\"%Y-%m-%d %H:%M:%S\", errors='coerce')\n"
   ]
  },
  {
   "cell_type": "code",
   "execution_count": 8,
   "id": "a4de83a2-c9e4-481b-af03-3bbdcfba6cf3",
   "metadata": {},
   "outputs": [
    {
     "name": "stdout",
     "output_type": "stream",
     "text": [
      "ride_id                       object\n",
      "rideable_type                 object\n",
      "started_at            datetime64[ns]\n",
      "ended_at              datetime64[ns]\n",
      "start_station_name            object\n",
      "start_station_id              object\n",
      "end_station_name              object\n",
      "end_station_id                object\n",
      "start_lat                    float64\n",
      "start_lng                    float64\n",
      "end_lat                      float64\n",
      "end_lng                      float64\n",
      "member_casual                 object\n",
      "Duration_min                   int64\n",
      "dayofweek                     object\n",
      "month                          int64\n",
      "distance                     float64\n",
      "start_date            datetime64[ns]\n",
      "start_time                    object\n",
      "end_date              datetime64[ns]\n",
      "end_time                      object\n",
      "year                           int64\n",
      "hour                           int64\n",
      "dtype: object\n"
     ]
    }
   ],
   "source": [
    "# Convert start_date and end_date to datetime\n",
    "df['start_date'] = pd.to_datetime(df['start_date'])\n",
    "df['end_date'] = pd.to_datetime(df['end_date'])\n",
    "\n",
    "print(df.dtypes)"
   ]
  },
  {
   "cell_type": "code",
   "execution_count": 34,
   "id": "13184449-0d6c-4178-b138-349fbc71f351",
   "metadata": {},
   "outputs": [
    {
     "name": "stdout",
     "output_type": "stream",
     "text": [
      "count    4.256824e+06\n",
      "mean     1.556845e+01\n",
      "std      2.874171e+01\n",
      "min      1.000000e+00\n",
      "25%      6.000000e+00\n",
      "50%      1.000000e+01\n",
      "75%      1.700000e+01\n",
      "max      1.439000e+03\n",
      "Name: Duration_min, dtype: float64\n"
     ]
    }
   ],
   "source": [
    "# Trip Duration Summary\n",
    "trip_duration_summary = df['Duration_min'].describe()\n",
    "print(trip_duration_summary)"
   ]
  },
  {
   "cell_type": "code",
   "execution_count": 15,
   "id": "4eabbd41-dbbd-47b8-a863-a559c13cd36b",
   "metadata": {},
   "outputs": [
    {
     "name": "stdout",
     "output_type": "stream",
     "text": [
      "    rideable_type  dayofweek  ride_count\n",
      "0    classic_bike     Friday      395917\n",
      "1    classic_bike     Monday      376670\n",
      "2    classic_bike   Saturday      386497\n",
      "3    classic_bike     Sunday      354840\n",
      "4    classic_bike   Thursday      419640\n",
      "5    classic_bike    Tuesday      371491\n",
      "6    classic_bike  Wednesday      383153\n",
      "7     docked_bike     Friday       10139\n",
      "8     docked_bike     Monday        9987\n",
      "9     docked_bike   Saturday       10150\n",
      "10    docked_bike     Sunday       10446\n",
      "11    docked_bike   Thursday       10606\n",
      "12    docked_bike    Tuesday        9382\n",
      "13    docked_bike  Wednesday        9937\n",
      "14  electric_bike     Friday      225571\n",
      "15  electric_bike     Monday      210632\n",
      "16  electric_bike   Saturday      203977\n",
      "17  electric_bike     Sunday      184887\n",
      "18  electric_bike   Thursday      239488\n",
      "19  electric_bike    Tuesday      212017\n",
      "20  electric_bike  Wednesday      221397\n"
     ]
    }
   ],
   "source": [
    "# Bike Type Preferences \n",
    "bike_type_pref = df.groupby(['rideable_type', 'dayofweek']).size().reset_index(name='ride_count')\n",
    "print(bike_type_pref)"
   ]
  },
  {
   "cell_type": "code",
   "execution_count": 17,
   "id": "a04f46f3-5225-4a9d-942c-ea63e960afa7",
   "metadata": {},
   "outputs": [
    {
     "name": "stdout",
     "output_type": "stream",
     "text": [
      "   member_casual  hour  ride_count\n",
      "0         casual     0       24423\n",
      "1         casual     1       15713\n",
      "2         casual     2        9014\n",
      "3         casual     3        4626\n",
      "4         casual     4        3463\n",
      "5         casual     5        8054\n",
      "6         casual     6       21551\n",
      "7         casual     7       38336\n",
      "8         casual     8       52224\n",
      "9         casual     9       52179\n",
      "10        casual    10       66231\n",
      "11        casual    11       83688\n",
      "12        casual    12       98851\n",
      "13        casual    13      102388\n",
      "14        casual    14      106183\n",
      "15        casual    15      117627\n",
      "16        casual    16      136407\n",
      "17        casual    17      148424\n",
      "18        casual    18      124305\n",
      "19        casual    19       90894\n",
      "20        casual    20       64880\n",
      "21        casual    21       53305\n",
      "22        casual    22       46971\n",
      "23        casual    23       29716\n",
      "24        member     0       22850\n",
      "25        member     1       13140\n",
      "26        member     2        7073\n",
      "27        member     3        4627\n",
      "28        member     4        5840\n",
      "29        member     5       26563\n",
      "30        member     6       84141\n",
      "31        member     7      157347\n",
      "32        member     8      193074\n",
      "33        member     9      125553\n",
      "34        member    10      111701\n",
      "35        member    11      131947\n",
      "36        member    12      150122\n",
      "37        member    13      148573\n",
      "38        member    14      151009\n",
      "39        member    15      186797\n",
      "40        member    16      256511\n",
      "41        member    17      300343\n",
      "42        member    18      230604\n",
      "43        member    19      160532\n",
      "44        member    20      110446\n",
      "45        member    21       83648\n",
      "46        member    22       60458\n",
      "47        member    23       34472\n"
     ]
    }
   ],
   "source": [
    "# Group by ride type and hour\n",
    "ridership_by_type_hour = (\n",
    "    df.groupby(['member_casual', 'hour'])\n",
    "    .size()\n",
    "    .reset_index(name='ride_count')\n",
    ")\n",
    "\n",
    "print(ridership_by_type_hour)\n"
   ]
  },
  {
   "cell_type": "code",
   "execution_count": 22,
   "id": "5cd60f16-442e-41ae-8793-b3d0904fb0d6",
   "metadata": {},
   "outputs": [
    {
     "name": "stdout",
     "output_type": "stream",
     "text": [
      "   member_casual  dayofweek  ride_count\n",
      "0         casual     Friday      222793\n",
      "1         casual     Monday      201123\n",
      "2         casual   Saturday      244278\n",
      "3         casual     Sunday      222789\n",
      "4         casual   Thursday      221266\n",
      "5         casual    Tuesday      187985\n",
      "6         casual  Wednesday      199219\n",
      "7         member     Friday      408834\n",
      "8         member     Monday      396166\n",
      "9         member   Saturday      356346\n",
      "10        member     Sunday      327384\n",
      "11        member   Thursday      448468\n",
      "12        member    Tuesday      404905\n",
      "13        member  Wednesday      415268\n"
     ]
    }
   ],
   "source": [
    "# Group by ride type and weekday\n",
    "ridership_by_type_weekday = (\n",
    "    df.groupby(['member_casual', 'dayofweek'])\n",
    "    .size()\n",
    "    .reset_index(name='ride_count')\n",
    ")\n",
    "\n",
    "print(ridership_by_type_weekday)\n"
   ]
  },
  {
   "cell_type": "code",
   "execution_count": 29,
   "id": "f1a8218e-5fc9-4a17-b8b9-7906edb3bb91",
   "metadata": {},
   "outputs": [
    {
     "name": "stdout",
     "output_type": "stream",
     "text": [
      "     hour  dayofweek  ride_count\n",
      "0       0     Friday        6420\n",
      "1       0     Monday        4989\n",
      "2       0   Saturday        9762\n",
      "3       0     Sunday       10260\n",
      "4       0   Thursday        5613\n",
      "..    ...        ...         ...\n",
      "163    23   Saturday       12159\n",
      "164    23     Sunday        6789\n",
      "165    23   Thursday       10147\n",
      "166    23    Tuesday        7546\n",
      "167    23  Wednesday        7815\n",
      "\n",
      "[168 rows x 3 columns]\n"
     ]
    }
   ],
   "source": [
    "# Peak Hours on Weekdays and Weekends\n",
    "peak_hours = df.groupby(['hour', 'dayofweek']).size().reset_index(name='ride_count')\n",
    "print(peak_hours)\n"
   ]
  },
  {
   "cell_type": "code",
   "execution_count": 31,
   "id": "b14e6e6b-90ca-42b6-9ab4-a0af56103be4",
   "metadata": {},
   "outputs": [
    {
     "name": "stdout",
     "output_type": "stream",
     "text": [
      "dayofweek      Friday  Monday  Saturday  Sunday  Thursday  Tuesday  Wednesday\n",
      "member_casual                                                                \n",
      "casual         222793  201123    244278  222789    221266   187985     199219\n",
      "member         408834  396166    356346  327384    448468   404905     415268\n"
     ]
    }
   ],
   "source": [
    "weekday_analysis = df.groupby(['member_casual', 'dayofweek']).size().unstack(fill_value=0)\n",
    "print(weekday_analysis)"
   ]
  },
  {
   "cell_type": "code",
   "execution_count": 32,
   "id": "a36ddfc6-7fb3-4a90-8c10-57006ba38b71",
   "metadata": {},
   "outputs": [
    {
     "name": "stdout",
     "output_type": "stream",
     "text": [
      "   dayofweek  ride_count\n",
      "0     Friday      631627\n",
      "1     Monday      597289\n",
      "2   Saturday      600624\n",
      "3     Sunday      550173\n",
      "4   Thursday      669734\n",
      "5    Tuesday      592890\n",
      "6  Wednesday      614487\n"
     ]
    }
   ],
   "source": [
    "\n",
    "weekdend_rides = df.groupby('dayofweek').size().reset_index(name='ride_count')\n",
    "print(weekdend_rides)\n"
   ]
  },
  {
   "cell_type": "code",
   "execution_count": null,
   "id": "6ad931ae-c893-4220-be9a-19e963e10d4b",
   "metadata": {},
   "outputs": [],
   "source": [
    "# Group by user type\n",
    "summary_by_user_type = df.groupby('member_casual')['Duration_min'].describe()\n",
    "print(summary_by_user_type)"
   ]
  },
  {
   "cell_type": "code",
   "execution_count": 37,
   "id": "1f38b69c-f2b5-4a91-aa12-a4e76ceff488",
   "metadata": {},
   "outputs": [
    {
     "name": "stdout",
     "output_type": "stream",
     "text": [
      "rideable_type  classic_bike  docked_bike  electric_bike\n",
      "dayofweek                                              \n",
      "Friday               395917        10139         225571\n",
      "Monday               376670         9987         210632\n",
      "Saturday             386497        10150         203977\n",
      "Sunday               354840        10446         184887\n",
      "Thursday             419640        10606         239488\n",
      "Tuesday              371491         9382         212017\n",
      "Wednesday            383153         9937         221397\n"
     ]
    }
   ],
   "source": [
    "# Rideable Type Analysis on Weekday and Weekend\n",
    "rideable_weekend_analysis = df.groupby(['dayofweek', 'rideable_type']).size().unstack(fill_value=0)\n",
    "\n",
    "# Display the result\n",
    "print(rideable_weekend_analysis)"
   ]
  },
  {
   "cell_type": "code",
   "execution_count": 38,
   "id": "8bf2ab0b-eb35-4629-af57-5a6cef6430e1",
   "metadata": {},
   "outputs": [
    {
     "name": "stdout",
     "output_type": "stream",
     "text": [
      "Counts:\n",
      " member_casual\n",
      "member    2757371\n",
      "casual    1499453\n",
      "Name: count, dtype: int64\n",
      "\n",
      "Percentages:\n",
      " member_casual\n",
      "member    64.775311\n",
      "casual    35.224689\n",
      "Name: proportion, dtype: float64\n"
     ]
    }
   ],
   "source": [
    "# Count and percentage\n",
    "user_type_counts = df['member_casual'].value_counts()\n",
    "user_type_percentage = df['member_casual'].value_counts(normalize=True) * 100\n",
    "\n",
    "print(\"Counts:\\n\", user_type_counts)\n",
    "print(\"\\nPercentages:\\n\", user_type_percentage)"
   ]
  },
  {
   "cell_type": "code",
   "execution_count": 39,
   "id": "c22604da-338d-4a6f-b744-1352a63f9aee",
   "metadata": {},
   "outputs": [
    {
     "name": "stdout",
     "output_type": "stream",
     "text": [
      "Top 10 Start Stations:\n",
      " start_station_name\n",
      "Streeter Dr & Grand Ave               58789\n",
      "DuSable Lake Shore Dr & Monroe St     37488\n",
      "Michigan Ave & Oak St                 34291\n",
      "DuSable Lake Shore Dr & North Blvd    32853\n",
      "Clark St & Elm St                     32254\n",
      "Kingsbury St & Kinzie St              32185\n",
      "Clinton St & Washington Blvd          30150\n",
      "Wells St & Concord Ln                 29269\n",
      "Theater on the Lake                   27720\n",
      "Millennium Park                       27441\n",
      "Name: count, dtype: int64\n",
      "Top 10 End Stations:\n",
      " end_station_name\n",
      "Streeter Dr & Grand Ave               60861\n",
      "DuSable Lake Shore Dr & North Blvd    36985\n",
      "DuSable Lake Shore Dr & Monroe St     35759\n",
      "Michigan Ave & Oak St                 35236\n",
      "Clark St & Elm St                     31573\n",
      "Kingsbury St & Kinzie St              31474\n",
      "Clinton St & Washington Blvd          30952\n",
      "Wells St & Concord Ln                 30203\n",
      "Millennium Park                       28887\n",
      "Theater on the Lake                   28690\n",
      "Name: count, dtype: int64\n"
     ]
    }
   ],
   "source": [
    "# Start Station Popularity\n",
    "start_station_popularity = df['start_station_name'].value_counts().head(10)\n",
    "\n",
    "# End Station Popularity\n",
    "end_station_popularity = df['end_station_name'].value_counts().head(10)\n",
    "\n",
    "print(\"Top 10 Start Stations:\\n\", start_station_popularity)\n",
    "print(\"Top 10 End Stations:\\n\", end_station_popularity)"
   ]
  },
  {
   "cell_type": "code",
   "execution_count": 41,
   "id": "15c50848-68f7-4c5e-b53b-7c79eaf70465",
   "metadata": {},
   "outputs": [
    {
     "name": "stdout",
     "output_type": "stream",
     "text": [
      "                   count      mean        std  min       25%      50%  \\\n",
      "member_casual                                                           \n",
      "casual         1499453.0  1.390546  11.416834  0.0  0.354941  1.01824   \n",
      "member         2757371.0  1.423484   1.434383  0.0  0.443737  1.03220   \n",
      "\n",
      "                   75%        max  \n",
      "member_casual                      \n",
      "casual         1.93319  9811.3200  \n",
      "member         1.92823    22.4145  \n"
     ]
    }
   ],
   "source": [
    "summary_by_user_type = df.groupby('member_casual')['distance'].describe()\n",
    "print(summary_by_user_type)"
   ]
  },
  {
   "cell_type": "code",
   "execution_count": 40,
   "id": "74f1455c-1007-4184-97ec-6e3d69fa2ab1",
   "metadata": {},
   "outputs": [
    {
     "name": "stdout",
     "output_type": "stream",
     "text": [
      "Distance Stats:\n",
      " mean       1.411882\n",
      "min        0.000000\n",
      "max     9811.320000\n",
      "Name: distance, dtype: float64\n",
      "Duration Stats:\n",
      " mean      15.568452\n",
      "min        1.000000\n",
      "max     1439.000000\n",
      "Name: Duration_min, dtype: float64\n"
     ]
    }
   ],
   "source": [
    "# Assuming 'distance' and 'ride_duration' columns exist in the same dataframe 'df'\n",
    "distance_stats = df['distance'].agg(['mean', 'min', 'max'])\n",
    "duration_stats = df['Duration_min'].agg(['mean', 'min', 'max'])\n",
    "\n",
    "print(\"Distance Stats:\\n\", distance_stats)\n",
    "print(\"Duration Stats:\\n\", duration_stats)"
   ]
  }
 ],
 "metadata": {
  "kernelspec": {
   "display_name": "Python 3 (ipykernel)",
   "language": "python",
   "name": "python3"
  },
  "language_info": {
   "codemirror_mode": {
    "name": "ipython",
    "version": 3
   },
   "file_extension": ".py",
   "mimetype": "text/x-python",
   "name": "python",
   "nbconvert_exporter": "python",
   "pygments_lexer": "ipython3",
   "version": "3.12.7"
  }
 },
 "nbformat": 4,
 "nbformat_minor": 5
}
